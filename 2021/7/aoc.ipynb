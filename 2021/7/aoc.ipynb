{
 "cells": [
  {
   "cell_type": "code",
   "execution_count": 74,
   "id": "2bb9e7f5-fd9a-4bdd-8919-a5157b53a69f",
   "metadata": {},
   "outputs": [],
   "source": [
    "fn = 'input.txt'\n",
    "#fn = 'test_input.txt'"
   ]
  },
  {
   "cell_type": "code",
   "execution_count": 75,
   "id": "cbe9c2eb-bf17-4482-bbb9-6d21f62d6ab8",
   "metadata": {},
   "outputs": [],
   "source": [
    "data = list(map(int, open(fn).readline().strip().split(',')))"
   ]
  },
  {
   "cell_type": "code",
   "execution_count": 76,
   "id": "4af564ce-e387-4f19-bb92-1cc99291b5bc",
   "metadata": {},
   "outputs": [],
   "source": [
    "# part 1"
   ]
  },
  {
   "cell_type": "code",
   "execution_count": 77,
   "id": "255733f1-672c-46b7-b9c1-ee764c1a8a4f",
   "metadata": {},
   "outputs": [],
   "source": [
    "def map_data(d):\n",
    "    m = {}\n",
    "    for v in d:\n",
    "        m[v] = m.get(v, 0) + 1\n",
    "    return m"
   ]
  },
  {
   "cell_type": "code",
   "execution_count": 78,
   "id": "6b9bb439-0ce0-4c1b-95e1-89ce8bcbd1a9",
   "metadata": {},
   "outputs": [],
   "source": [
    "d_m = map_data(data)"
   ]
  },
  {
   "cell_type": "code",
   "execution_count": 79,
   "id": "6c434001-531d-40b0-ac3e-8611edf839ce",
   "metadata": {},
   "outputs": [],
   "source": [
    "d_keys = sorted(d_m.keys())\n",
    "min_v, max_v = d_keys[0], d_keys[-1]"
   ]
  },
  {
   "cell_type": "code",
   "execution_count": 80,
   "id": "41fe9a4d-633f-4a53-ba8d-add331a0aeac",
   "metadata": {},
   "outputs": [],
   "source": [
    "def costfu(m, mi, ma):\n",
    "    cost = {}\n",
    "    for i in range(mi, ma+1):\n",
    "        cost[i] = 0\n",
    "        for v, w in m.items():\n",
    "            cost[i] += abs(v-i)*w\n",
    "            #print(f'{i} -> {v},{w}: {cost[i]}')\n",
    "        #print(cost)\n",
    "    return cost"
   ]
  },
  {
   "cell_type": "code",
   "execution_count": 81,
   "id": "2d9332d9-bd6b-415f-820e-0c08cf4ceddd",
   "metadata": {},
   "outputs": [],
   "source": [
    "part1_cost = costfu(d_m, min_v, max_v)"
   ]
  },
  {
   "cell_type": "code",
   "execution_count": 82,
   "id": "b06a54c4-895b-45f8-a738-1c885a57b60e",
   "metadata": {},
   "outputs": [
    {
     "data": {
      "text/plain": [
       "(344, 355989)"
      ]
     },
     "execution_count": 82,
     "metadata": {},
     "output_type": "execute_result"
    }
   ],
   "source": [
    "sorted(part1_cost.items(), key = lambda x: x[1])[0]"
   ]
  },
  {
   "cell_type": "code",
   "execution_count": 83,
   "id": "1c576116-1c26-4ad2-bfd8-a3dfb5428ef1",
   "metadata": {},
   "outputs": [],
   "source": [
    "# part 2"
   ]
  },
  {
   "cell_type": "code",
   "execution_count": 84,
   "id": "0469c5d5-135e-489a-8aca-ba9bfc7916b7",
   "metadata": {},
   "outputs": [],
   "source": [
    "def fuel(d):\n",
    "    if d % 2:\n",
    "        return (d+1)*(d//2)+(d+1)//2\n",
    "    return (d+1)*(d//2)\n",
    "\n",
    "def costfu_2(m, mi, ma):\n",
    "    cost = {}\n",
    "    for i in range(mi, ma+1):\n",
    "        cost[i] = 0\n",
    "        for v, w in m.items():\n",
    "            cost[i] += fuel(abs(v-i))*w\n",
    "    return cost"
   ]
  },
  {
   "cell_type": "code",
   "execution_count": 85,
   "id": "890a3588-260a-480e-af71-bed967e181fe",
   "metadata": {},
   "outputs": [
    {
     "data": {
      "text/plain": [
       "(483, 102245489)"
      ]
     },
     "execution_count": 85,
     "metadata": {},
     "output_type": "execute_result"
    }
   ],
   "source": [
    "part2_cost = costfu_2(d_m, min_v, max_v)\n",
    "sorted(part2_cost.items(), key = lambda x: x[1])[0]"
   ]
  },
  {
   "cell_type": "code",
   "execution_count": 46,
   "id": "05308661-f569-44ac-bc00-754930ddf641",
   "metadata": {},
   "outputs": [
    {
     "data": {
      "text/plain": [
       "15"
      ]
     },
     "execution_count": 46,
     "metadata": {},
     "output_type": "execute_result"
    }
   ],
   "source": [
    "1 + 2 + 3 + 4 + 5"
   ]
  },
  {
   "cell_type": "code",
   "execution_count": 47,
   "id": "1f284813-dfcf-4bc9-9b02-46e1340dad31",
   "metadata": {},
   "outputs": [
    {
     "data": {
      "text/plain": [
       "15"
      ]
     },
     "execution_count": 47,
     "metadata": {},
     "output_type": "execute_result"
    }
   ],
   "source": [
    "(5+1)*(5//2)+(5+1)//2"
   ]
  },
  {
   "cell_type": "code",
   "execution_count": 48,
   "id": "06b1d634-2f12-47af-b309-25b5e31784a1",
   "metadata": {},
   "outputs": [
    {
     "data": {
      "text/plain": [
       "21"
      ]
     },
     "execution_count": 48,
     "metadata": {},
     "output_type": "execute_result"
    }
   ],
   "source": [
    "1 + 2 + 3 + 4 + 5 + 6"
   ]
  },
  {
   "cell_type": "code",
   "execution_count": 49,
   "id": "7a2ad2a6-f20f-468e-825a-d26861a1246b",
   "metadata": {},
   "outputs": [
    {
     "data": {
      "text/plain": [
       "21"
      ]
     },
     "execution_count": 49,
     "metadata": {},
     "output_type": "execute_result"
    }
   ],
   "source": [
    "(6+1)*(6//2)"
   ]
  },
  {
   "cell_type": "code",
   "execution_count": 50,
   "id": "7295f8b7-8629-4974-a19e-19d45a818b67",
   "metadata": {},
   "outputs": [
    {
     "data": {
      "text/plain": [
       "28"
      ]
     },
     "execution_count": 50,
     "metadata": {},
     "output_type": "execute_result"
    }
   ],
   "source": [
    "1 + 2 + 3 + 4 + 5 + 6 + 7"
   ]
  },
  {
   "cell_type": "code",
   "execution_count": 52,
   "id": "b34a679d-f033-4e76-a6fa-6b1a5bea286c",
   "metadata": {},
   "outputs": [
    {
     "data": {
      "text/plain": [
       "28"
      ]
     },
     "execution_count": 52,
     "metadata": {},
     "output_type": "execute_result"
    }
   ],
   "source": [
    "(7+1)*(7//2)+(7+1)//2"
   ]
  },
  {
   "cell_type": "code",
   "execution_count": 54,
   "id": "eb1ae391-4255-421c-ad95-e49ad46ab220",
   "metadata": {},
   "outputs": [
    {
     "data": {
      "text/plain": [
       "0"
      ]
     },
     "execution_count": 54,
     "metadata": {},
     "output_type": "execute_result"
    }
   ],
   "source": [
    "6 % 2"
   ]
  },
  {
   "cell_type": "code",
   "execution_count": 55,
   "id": "9bda5fd8-8d67-4d01-a7de-36b2244435bd",
   "metadata": {},
   "outputs": [],
   "source": []
  },
  {
   "cell_type": "code",
   "execution_count": 56,
   "id": "231b643c-ac7c-4d46-bc21-e9d7891324ff",
   "metadata": {},
   "outputs": [
    {
     "data": {
      "text/plain": [
       "15"
      ]
     },
     "execution_count": 56,
     "metadata": {},
     "output_type": "execute_result"
    }
   ],
   "source": [
    "fuel(5)"
   ]
  },
  {
   "cell_type": "code",
   "execution_count": 57,
   "id": "9d1debc6-e832-4413-9ad7-0a83dc98da82",
   "metadata": {},
   "outputs": [
    {
     "data": {
      "text/plain": [
       "21"
      ]
     },
     "execution_count": 57,
     "metadata": {},
     "output_type": "execute_result"
    }
   ],
   "source": [
    "fuel(6)"
   ]
  },
  {
   "cell_type": "code",
   "execution_count": 58,
   "id": "85e2d292-003a-4805-a861-fe3ddb82a749",
   "metadata": {},
   "outputs": [
    {
     "data": {
      "text/plain": [
       "28"
      ]
     },
     "execution_count": 58,
     "metadata": {},
     "output_type": "execute_result"
    }
   ],
   "source": [
    "fuel(7)"
   ]
  },
  {
   "cell_type": "code",
   "execution_count": 59,
   "id": "6a4b8f18-bf61-4f1b-9cb7-60fe7dde8022",
   "metadata": {},
   "outputs": [
    {
     "data": {
      "text/plain": [
       "1"
      ]
     },
     "execution_count": 59,
     "metadata": {},
     "output_type": "execute_result"
    }
   ],
   "source": [
    "fuel(1)"
   ]
  },
  {
   "cell_type": "code",
   "execution_count": null,
   "id": "e2aa192c-2f1b-4fd3-a770-f9b1083b6b1c",
   "metadata": {},
   "outputs": [],
   "source": []
  }
 ],
 "metadata": {
  "kernelspec": {
   "display_name": "Python 3 (ipykernel)",
   "language": "python",
   "name": "python3"
  },
  "language_info": {
   "codemirror_mode": {
    "name": "ipython",
    "version": 3
   },
   "file_extension": ".py",
   "mimetype": "text/x-python",
   "name": "python",
   "nbconvert_exporter": "python",
   "pygments_lexer": "ipython3",
   "version": "3.9.0"
  }
 },
 "nbformat": 4,
 "nbformat_minor": 5
}
