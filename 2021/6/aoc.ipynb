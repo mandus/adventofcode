{
 "cells": [
  {
   "cell_type": "code",
   "execution_count": 23,
   "id": "b460185e-0ed5-461e-b137-7c314cf66ca5",
   "metadata": {},
   "outputs": [],
   "source": [
    "fn = 'test_input.txt'"
   ]
  },
  {
   "cell_type": "code",
   "execution_count": 24,
   "id": "4a441ba7-7162-4915-9a14-b9699a7620d6",
   "metadata": {},
   "outputs": [],
   "source": [
    "# load data\n",
    "data = [int(i) for i in open(fn).readline().strip().split(',')]"
   ]
  },
  {
   "cell_type": "code",
   "execution_count": 25,
   "id": "aed80c52-01d4-4aaa-b9fe-0113b0868f4f",
   "metadata": {},
   "outputs": [
    {
     "data": {
      "text/plain": [
       "[3, 4, 3, 1, 2]"
      ]
     },
     "execution_count": 25,
     "metadata": {},
     "output_type": "execute_result"
    }
   ],
   "source": [
    "data"
   ]
  },
  {
   "cell_type": "code",
   "execution_count": 26,
   "id": "381312ea-7b61-43c7-a4ef-610ccf050b7e",
   "metadata": {},
   "outputs": [],
   "source": [
    "def update(n):\n",
    "    if not n: return 6\n",
    "    return n-1"
   ]
  },
  {
   "cell_type": "code",
   "execution_count": 27,
   "id": "67433a44-ba36-4dbf-aa5d-d85e597dca7f",
   "metadata": {},
   "outputs": [
    {
     "data": {
      "text/plain": [
       "[]"
      ]
     },
     "execution_count": 27,
     "metadata": {},
     "output_type": "execute_result"
    }
   ],
   "source": [
    "[9 for x in data if x == 0]"
   ]
  },
  {
   "cell_type": "code",
   "execution_count": 28,
   "id": "dbbc7b29-1903-4c1c-b484-e8d36cf78a4c",
   "metadata": {},
   "outputs": [],
   "source": [
    "def extrafish(d):\n",
    "    return [8 for x in d if x == 0]\n",
    "def addfish(d,e):\n",
    "    d.extend(e)"
   ]
  },
  {
   "cell_type": "code",
   "execution_count": null,
   "id": "2fc036ec-bbe6-47ef-af24-aca4c86a99bf",
   "metadata": {},
   "outputs": [],
   "source": []
  },
  {
   "cell_type": "code",
   "execution_count": null,
   "id": "49dc6c21-c19a-4cc6-bea0-9e8deaf1948a",
   "metadata": {},
   "outputs": [],
   "source": []
  },
  {
   "cell_type": "code",
   "execution_count": 44,
   "id": "ff4cb77f-08e7-4d4c-973f-ceb067c31417",
   "metadata": {},
   "outputs": [
    {
     "name": "stdout",
     "output_type": "stream",
     "text": [
      "part1:  5934\n"
     ]
    }
   ],
   "source": [
    "num_days = 80\n",
    "#fn = 'input.txt'\n",
    "data = [int(i) for i in open(fn).readline().strip().split(',')]\n",
    "#data = [1]\n",
    "def grow_days(fish, n_d):\n",
    "    for i in range(1,n_d+1):\n",
    "        ef = extrafish(fish)\n",
    "        fish = [d for d in map(update, fish)]\n",
    "        addfish(fish, ef)\n",
    "        #print(f'{i}: {fish}')\n",
    "    return fish\n",
    "\n",
    "fishsum = 0\n",
    "for f in data:\n",
    "    fish = grow_days([f], num_days)\n",
    "    fishsum += len(fish)\n",
    "\n",
    "print('part1: ', fishsum)"
   ]
  },
  {
   "cell_type": "code",
   "execution_count": null,
   "id": "1e2cfad1-e32a-4c7c-81d6-00cbd8d5ab9c",
   "metadata": {},
   "outputs": [],
   "source": []
  },
  {
   "cell_type": "code",
   "execution_count": null,
   "id": "ce5b451e-4707-4538-bc34-dc443ec94ae9",
   "metadata": {},
   "outputs": [],
   "source": []
  },
  {
   "cell_type": "code",
   "execution_count": null,
   "id": "86cc8e2b-611b-4180-8606-69903926eb8a",
   "metadata": {},
   "outputs": [],
   "source": []
  },
  {
   "cell_type": "code",
   "execution_count": 167,
   "id": "19e21111-10a0-417b-b926-f35e8967fdfc",
   "metadata": {},
   "outputs": [],
   "source": []
  },
  {
   "cell_type": "code",
   "execution_count": null,
   "id": "dc3106c8-f5fa-4b21-9c6a-850fece694a4",
   "metadata": {},
   "outputs": [],
   "source": []
  },
  {
   "cell_type": "code",
   "execution_count": 1,
   "id": "4df51504-288b-4ed0-9e8f-c5ce8eb82a67",
   "metadata": {},
   "outputs": [],
   "source": [
    "def update_age(age, count):\n",
    "    if age == 0:\n",
    "        return {8: count, 6: count}\n",
    "    return {age-1: count}\n"
   ]
  },
  {
   "cell_type": "code",
   "execution_count": 2,
   "id": "c826d4fb-75b8-4fda-942a-ca688cc05ee3",
   "metadata": {},
   "outputs": [
    {
     "data": {
      "text/plain": [
       "{4: 3}"
      ]
     },
     "execution_count": 2,
     "metadata": {},
     "output_type": "execute_result"
    }
   ],
   "source": [
    "update_age(5,3)"
   ]
  },
  {
   "cell_type": "code",
   "execution_count": 3,
   "id": "7daf06e1-f24c-4505-84a0-b93f9467b0e4",
   "metadata": {},
   "outputs": [
    {
     "data": {
      "text/plain": [
       "{8: 4, 6: 4}"
      ]
     },
     "execution_count": 3,
     "metadata": {},
     "output_type": "execute_result"
    }
   ],
   "source": [
    "update_age(0, 4)"
   ]
  },
  {
   "cell_type": "code",
   "execution_count": 9,
   "id": "d5cfef02-fcaa-4932-9a2d-03acddcd24cf",
   "metadata": {},
   "outputs": [],
   "source": [
    "def map_data(data):\n",
    "    m = {}\n",
    "    for d in data:\n",
    "        m[d] = m.get(d, 0)+1\n",
    "    return m"
   ]
  },
  {
   "cell_type": "code",
   "execution_count": 11,
   "id": "aef9af7b-ae21-4929-a1e2-3f33e80b6d04",
   "metadata": {},
   "outputs": [],
   "source": [
    "agemap = map_data(data)"
   ]
  },
  {
   "cell_type": "code",
   "execution_count": 14,
   "id": "df649749-53cd-4509-a731-41e7c9d8aadb",
   "metadata": {},
   "outputs": [],
   "source": [
    "def update_map(amap):\n",
    "    m = {}\n",
    "    for age, count in amap.items():\n",
    "        upd_age = update_age(age, count)\n",
    "        for age, cnt in upd_age.items():\n",
    "            m[age] = m.get(age, 0) + cnt\n",
    "    return m"
   ]
  },
  {
   "cell_type": "code",
   "execution_count": 37,
   "id": "3749b3e6-f544-4042-b41f-16a4b3cf9722",
   "metadata": {},
   "outputs": [],
   "source": [
    "def cnt_map(amap):\n",
    "    return sum([cnt for age, cnt in amap.items()])"
   ]
  },
  {
   "cell_type": "code",
   "execution_count": 39,
   "id": "ceef0162-e0bb-461c-bfac-ee9ede7e25f5",
   "metadata": {},
   "outputs": [
    {
     "data": {
      "text/plain": [
       "5"
      ]
     },
     "execution_count": 39,
     "metadata": {},
     "output_type": "execute_result"
    }
   ],
   "source": [
    "cnt_map(agemap)"
   ]
  },
  {
   "cell_type": "code",
   "execution_count": 48,
   "id": "15635c91-1a2a-4557-a989-37776fcfc51d",
   "metadata": {},
   "outputs": [
    {
     "name": "stdout",
     "output_type": "stream",
     "text": [
      "part2:  1710166656900\n"
     ]
    }
   ],
   "source": [
    "# part 1 - I took a clue though\n",
    "num_days = 256\n",
    "fn = 'input.txt'\n",
    "data = [int(i) for i in open(fn).readline().strip().split(',')]\n",
    "agemap = map_data(data)\n",
    "for _ in range(num_days):\n",
    "    agemap = update_map(agemap)\n",
    "print('part2: ', cnt_map(agemap))"
   ]
  },
  {
   "cell_type": "code",
   "execution_count": null,
   "id": "12c4a8a2-5ffe-42d5-b359-d0fc1ea85d2c",
   "metadata": {},
   "outputs": [],
   "source": []
  }
 ],
 "metadata": {
  "kernelspec": {
   "display_name": "Python 3 (ipykernel)",
   "language": "python",
   "name": "python3"
  },
  "language_info": {
   "codemirror_mode": {
    "name": "ipython",
    "version": 3
   },
   "file_extension": ".py",
   "mimetype": "text/x-python",
   "name": "python",
   "nbconvert_exporter": "python",
   "pygments_lexer": "ipython3",
   "version": "3.9.0"
  }
 },
 "nbformat": 4,
 "nbformat_minor": 5
}
