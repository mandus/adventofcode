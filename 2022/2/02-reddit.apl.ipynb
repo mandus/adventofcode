{
 "cells": [
  {
   "cell_type": "code",
   "execution_count": 246,
   "id": "4fc77e27",
   "metadata": {},
   "outputs": [],
   "source": [
    "a←'ABC'\n",
    "x←'XYZ'\n",
    "raw←{(~⍵∊' ')/⍵}¨⊃⎕NGET'input.txt'1"
   ]
  },
  {
   "cell_type": "code",
   "execution_count": 247,
   "id": "49297d1f",
   "metadata": {},
   "outputs": [],
   "source": [
    "p1_interp ← {({(⍸⍵⍷x)⌷a}@2) ⍵}¨raw ⍝ where in arg (e.g 'AY') in x ('XYZ') -> 2; materialise (⌷) in a -> B. Use at (@) 2 in arg."
   ]
  },
  {
   "cell_type": "code",
   "execution_count": 248,
   "id": "42c681fa",
   "metadata": {},
   "outputs": [],
   "source": [
    "win←{⍺=⍵:3⋄(⊂⍺,⍵)∊↓(⊢⌺2)4⍴a:6⋄0}\n",
    "score←{(⍸⍵⍷a)+⍺ win ⍵}\n",
    "calc←{+⌿{(⊃score/⍺)×⍴⍵}⌸↑⍵}"
   ]
  },
  {
   "cell_type": "code",
   "execution_count": 249,
   "id": "5d22795f",
   "metadata": {},
   "outputs": [
    {
     "data": {
      "text/html": [
       "<pre class=\"language-APL\">14827\n",
       "</pre>"
      ]
     },
     "execution_count": 249,
     "metadata": {},
     "output_type": "execute_result"
    }
   ],
   "source": [
    "calc p1_interp"
   ]
  },
  {
   "cell_type": "code",
   "execution_count": 250,
   "id": "f23e9b4c",
   "metadata": {},
   "outputs": [],
   "source": [
    "weak←{(⍸⍵⍷a)⌷1⌽a}\n",
    "pick←{(weak⍣(¯1+⊃⍸⍵⍷1⌽x))⍺}"
   ]
  },
  {
   "cell_type": "code",
   "execution_count": 253,
   "id": "0d5d0fd1",
   "metadata": {},
   "outputs": [],
   "source": [
    "p2_interp←{((pick/⍵)@2)⍵}¨raw"
   ]
  },
  {
   "cell_type": "code",
   "execution_count": 254,
   "id": "662ca9d9",
   "metadata": {},
   "outputs": [
    {
     "data": {
      "text/html": [
       "<pre class=\"language-APL\">13889\n",
       "</pre>"
      ]
     },
     "execution_count": 254,
     "metadata": {},
     "output_type": "execute_result"
    }
   ],
   "source": [
    "p2_and←⎕←calc p2_interp"
   ]
  },
  {
   "cell_type": "code",
   "execution_count": 255,
   "id": "db92b5de",
   "metadata": {},
   "outputs": [],
   "source": [
    "⍝ Another solution, also from reddit:"
   ]
  },
  {
   "cell_type": "code",
   "execution_count": 256,
   "id": "04b7431f",
   "metadata": {},
   "outputs": [],
   "source": [
    "⎕IO←0"
   ]
  },
  {
   "cell_type": "code",
   "execution_count": 294,
   "id": "e897641e",
   "metadata": {},
   "outputs": [],
   "source": [
    "m←3|'ABCXYZ'⍳1 0 1/↑⊃⎕NGET'input.txt'1"
   ]
  },
  {
   "cell_type": "code",
   "execution_count": 295,
   "id": "35605dbe",
   "metadata": {},
   "outputs": [
    {
     "data": {
      "text/html": [
       "<pre class=\"language-APL\">14827\n",
       "</pre>"
      ]
     },
     "execution_count": 295,
     "metadata": {},
     "output_type": "execute_result"
    }
   ],
   "source": [
    "⎕←(+/(1+⊢/)+3×3|1+-⍨/)m"
   ]
  },
  {
   "cell_type": "code",
   "execution_count": 296,
   "id": "3596ffcf",
   "metadata": {},
   "outputs": [
    {
     "data": {
      "text/html": [
       "<pre class=\"language-APL\">13889\n",
       "</pre>"
      ]
     },
     "execution_count": 296,
     "metadata": {},
     "output_type": "execute_result"
    }
   ],
   "source": [
    "⎕←(+/(3×⊢/)+1+3|1-⍨+/)m"
   ]
  },
  {
   "cell_type": "code",
   "execution_count": null,
   "id": "4e2ab393",
   "metadata": {},
   "outputs": [],
   "source": []
  },
  {
   "cell_type": "code",
   "execution_count": null,
   "id": "9a20a74a",
   "metadata": {},
   "outputs": [],
   "source": []
  }
 ],
 "metadata": {
  "kernelspec": {
   "display_name": "Dyalog APL",
   "language": "apl",
   "name": "dyalog-kernel"
  },
  "language_info": {
   "file_extension": ".apl",
   "mimetype": "text/apl",
   "name": "APL"
  }
 },
 "nbformat": 4,
 "nbformat_minor": 5
}
