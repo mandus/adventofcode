{
 "cells": [
  {
   "cell_type": "code",
   "execution_count": 44,
   "id": "eb89db45",
   "metadata": {},
   "outputs": [],
   "source": [
    "d←10|¯1+⎕D∘⍳¨p←⊃⎕nget'input.txt'1 ⍝ Solution from https://www.reddit.com/user/voidhawk42/"
   ]
  },
  {
   "cell_type": "code",
   "execution_count": null,
   "id": "4549ef7c",
   "metadata": {},
   "outputs": [],
   "source": []
  },
  {
   "cell_type": "code",
   "execution_count": 45,
   "id": "d77a2f45",
   "metadata": {},
   "outputs": [],
   "source": [
    "f←+/((10⊥⊃,⊢/)~∘0)¨"
   ]
  },
  {
   "cell_type": "code",
   "execution_count": 46,
   "id": "5ec3ce2c",
   "metadata": {},
   "outputs": [],
   "source": [
    "n←' '(≠⊆⊢)'one two three four five six seven eight nine'"
   ]
  },
  {
   "cell_type": "code",
   "execution_count": null,
   "id": "917a6a74",
   "metadata": {},
   "outputs": [],
   "source": []
  },
  {
   "cell_type": "code",
   "execution_count": 47,
   "id": "8118d36b",
   "metadata": {},
   "outputs": [
    {
     "data": {
      "text/html": [
       "<pre class=\"language-APL\">54632\n",
       "</pre>"
      ]
     },
     "execution_count": 47,
     "metadata": {},
     "output_type": "execute_result"
    }
   ],
   "source": [
    "f d ⍝ part 1"
   ]
  },
  {
   "cell_type": "code",
   "execution_count": 49,
   "id": "d6f41f18",
   "metadata": {},
   "outputs": [
    {
     "data": {
      "text/html": [
       "<pre class=\"language-APL\">54019\n",
       "</pre>"
      ]
     },
     "execution_count": 49,
     "metadata": {},
     "output_type": "execute_result"
    }
   ],
   "source": [
    "f d+(⍳9)+.×n∘.⍷p ⍝ part 2"
   ]
  },
  {
   "cell_type": "code",
   "execution_count": null,
   "id": "318cd166",
   "metadata": {},
   "outputs": [],
   "source": []
  },
  {
   "cell_type": "code",
   "execution_count": null,
   "id": "0e0610a4",
   "metadata": {},
   "outputs": [],
   "source": []
  },
  {
   "cell_type": "code",
   "execution_count": null,
   "id": "258f7868",
   "metadata": {},
   "outputs": [],
   "source": []
  }
 ],
 "metadata": {
  "kernelspec": {
   "display_name": "Dyalog APL",
   "language": "apl",
   "name": "dyalog-kernel"
  },
  "language_info": {
   "file_extension": ".apl",
   "mimetype": "text/apl",
   "name": "APL"
  }
 },
 "nbformat": 4,
 "nbformat_minor": 5
}
